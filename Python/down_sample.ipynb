{
 "cells": [
  {
   "cell_type": "markdown",
   "metadata": {},
   "source": [
    "### Imports"
   ]
  },
  {
   "cell_type": "code",
   "execution_count": 17,
   "metadata": {},
   "outputs": [
    {
     "name": "stdout",
     "output_type": "stream",
     "text": [
      "The autoreload extension is already loaded. To reload it, use:\n",
      "  %reload_ext autoreload\n"
     ]
    }
   ],
   "source": [
    "%load_ext autoreload\n",
    "\n",
    "from dask.distributed import Client\n",
    "from dask_image_processing import Image\n",
    "import json\n",
    "import os, time\n",
    "import sys\n",
    "\n",
    "from dask_image_processing import Image\n",
    "from deconvolution import PSF\n",
    "\n",
    "import matplotlib.pyplot as plt\n",
    "\n",
    "plt.rcParams['figure.figsize'] = [15, 15]\n",
    "plt.rcParams['image.cmap'] = 'gray'"
   ]
  },
  {
   "cell_type": "markdown",
   "metadata": {},
   "source": [
    "### Create a cluster on a separate notebook and create a client here"
   ]
  },
  {
   "cell_type": "code",
   "execution_count": 18,
   "metadata": {},
   "outputs": [],
   "source": [
    "client = Client('tcp://127.0.0.1:44988')"
   ]
  },
  {
   "cell_type": "markdown",
   "metadata": {},
   "source": [
    "### Load Image"
   ]
  },
  {
   "cell_type": "code",
   "execution_count": 19,
   "metadata": {
    "scrolled": true
   },
   "outputs": [
    {
     "name": "stdout",
     "output_type": "stream",
     "text": [
      "image_path: /hpc_utoz/vvib872/Data/MuSIC/CV54/J/roi_diff_bgm_deconv_CV54J_640.zarr\n"
     ]
    },
    {
     "data": {
      "text/html": [
       "<table>\n",
       "<tr>\n",
       "<td>\n",
       "<table>\n",
       "  <thead>\n",
       "    <tr><td> </td><th> Array </th><th> Chunk </th></tr>\n",
       "  </thead>\n",
       "  <tbody>\n",
       "    <tr><th> Bytes </th><td> 63.89 GB </td> <td> 67.11 MB </td></tr>\n",
       "    <tr><th> Shape </th><td> (256, 7168, 8704) </td> <td> (256, 256, 256) </td></tr>\n",
       "    <tr><th> Count </th><td> 953 Tasks </td><td> 952 Chunks </td></tr>\n",
       "    <tr><th> Type </th><td> float32 </td><td> numpy.ndarray </td></tr>\n",
       "  </tbody>\n",
       "</table>\n",
       "</td>\n",
       "<td>\n",
       "<svg width=\"198\" height=\"167\" style=\"stroke:rgb(0,0,0);stroke-width:1\" >\n",
       "\n",
       "  <!-- Horizontal lines -->\n",
       "  <line x1=\"10\" y1=\"0\" x2=\"28\" y2=\"18\" style=\"stroke-width:2\" />\n",
       "  <line x1=\"10\" y1=\"3\" x2=\"28\" y2=\"21\" />\n",
       "  <line x1=\"10\" y1=\"7\" x2=\"28\" y2=\"25\" />\n",
       "  <line x1=\"10\" y1=\"10\" x2=\"28\" y2=\"28\" />\n",
       "  <line x1=\"10\" y1=\"14\" x2=\"28\" y2=\"32\" />\n",
       "  <line x1=\"10\" y1=\"17\" x2=\"28\" y2=\"36\" />\n",
       "  <line x1=\"10\" y1=\"21\" x2=\"28\" y2=\"39\" />\n",
       "  <line x1=\"10\" y1=\"24\" x2=\"28\" y2=\"43\" />\n",
       "  <line x1=\"10\" y1=\"28\" x2=\"28\" y2=\"46\" />\n",
       "  <line x1=\"10\" y1=\"31\" x2=\"28\" y2=\"50\" />\n",
       "  <line x1=\"10\" y1=\"35\" x2=\"28\" y2=\"53\" />\n",
       "  <line x1=\"10\" y1=\"38\" x2=\"28\" y2=\"57\" />\n",
       "  <line x1=\"10\" y1=\"42\" x2=\"28\" y2=\"60\" />\n",
       "  <line x1=\"10\" y1=\"45\" x2=\"28\" y2=\"64\" />\n",
       "  <line x1=\"10\" y1=\"49\" x2=\"28\" y2=\"67\" />\n",
       "  <line x1=\"10\" y1=\"52\" x2=\"28\" y2=\"71\" />\n",
       "  <line x1=\"10\" y1=\"56\" x2=\"28\" y2=\"74\" />\n",
       "  <line x1=\"10\" y1=\"60\" x2=\"28\" y2=\"78\" />\n",
       "  <line x1=\"10\" y1=\"63\" x2=\"28\" y2=\"81\" />\n",
       "  <line x1=\"10\" y1=\"67\" x2=\"28\" y2=\"85\" />\n",
       "  <line x1=\"10\" y1=\"70\" x2=\"28\" y2=\"88\" />\n",
       "  <line x1=\"10\" y1=\"74\" x2=\"28\" y2=\"92\" />\n",
       "  <line x1=\"10\" y1=\"77\" x2=\"28\" y2=\"96\" />\n",
       "  <line x1=\"10\" y1=\"81\" x2=\"28\" y2=\"99\" />\n",
       "  <line x1=\"10\" y1=\"84\" x2=\"28\" y2=\"103\" />\n",
       "  <line x1=\"10\" y1=\"88\" x2=\"28\" y2=\"106\" />\n",
       "  <line x1=\"10\" y1=\"91\" x2=\"28\" y2=\"110\" />\n",
       "  <line x1=\"10\" y1=\"95\" x2=\"28\" y2=\"113\" />\n",
       "  <line x1=\"10\" y1=\"98\" x2=\"28\" y2=\"117\" style=\"stroke-width:2\" />\n",
       "\n",
       "  <!-- Vertical lines -->\n",
       "  <line x1=\"10\" y1=\"0\" x2=\"10\" y2=\"98\" style=\"stroke-width:2\" />\n",
       "  <line x1=\"28\" y1=\"18\" x2=\"28\" y2=\"117\" style=\"stroke-width:2\" />\n",
       "\n",
       "  <!-- Colored Rectangle -->\n",
       "  <polygon points=\"10.000000,0.000000 28.395290,18.395290 28.395290,117.218819 10.000000,98.823529\" style=\"fill:#ECB172A0;stroke-width:0\"/>\n",
       "\n",
       "  <!-- Horizontal lines -->\n",
       "  <line x1=\"10\" y1=\"0\" x2=\"130\" y2=\"0\" style=\"stroke-width:2\" />\n",
       "  <line x1=\"28\" y1=\"18\" x2=\"148\" y2=\"18\" style=\"stroke-width:2\" />\n",
       "\n",
       "  <!-- Vertical lines -->\n",
       "  <line x1=\"10\" y1=\"0\" x2=\"28\" y2=\"18\" style=\"stroke-width:2\" />\n",
       "  <line x1=\"13\" y1=\"0\" x2=\"31\" y2=\"18\" />\n",
       "  <line x1=\"17\" y1=\"0\" x2=\"35\" y2=\"18\" />\n",
       "  <line x1=\"20\" y1=\"0\" x2=\"38\" y2=\"18\" />\n",
       "  <line x1=\"24\" y1=\"0\" x2=\"42\" y2=\"18\" />\n",
       "  <line x1=\"27\" y1=\"0\" x2=\"46\" y2=\"18\" />\n",
       "  <line x1=\"31\" y1=\"0\" x2=\"49\" y2=\"18\" />\n",
       "  <line x1=\"34\" y1=\"0\" x2=\"53\" y2=\"18\" />\n",
       "  <line x1=\"38\" y1=\"0\" x2=\"56\" y2=\"18\" />\n",
       "  <line x1=\"41\" y1=\"0\" x2=\"60\" y2=\"18\" />\n",
       "  <line x1=\"45\" y1=\"0\" x2=\"63\" y2=\"18\" />\n",
       "  <line x1=\"48\" y1=\"0\" x2=\"67\" y2=\"18\" />\n",
       "  <line x1=\"52\" y1=\"0\" x2=\"70\" y2=\"18\" />\n",
       "  <line x1=\"55\" y1=\"0\" x2=\"74\" y2=\"18\" />\n",
       "  <line x1=\"59\" y1=\"0\" x2=\"77\" y2=\"18\" />\n",
       "  <line x1=\"62\" y1=\"0\" x2=\"81\" y2=\"18\" />\n",
       "  <line x1=\"66\" y1=\"0\" x2=\"84\" y2=\"18\" />\n",
       "  <line x1=\"70\" y1=\"0\" x2=\"88\" y2=\"18\" />\n",
       "  <line x1=\"73\" y1=\"0\" x2=\"91\" y2=\"18\" />\n",
       "  <line x1=\"77\" y1=\"0\" x2=\"95\" y2=\"18\" />\n",
       "  <line x1=\"80\" y1=\"0\" x2=\"98\" y2=\"18\" />\n",
       "  <line x1=\"84\" y1=\"0\" x2=\"102\" y2=\"18\" />\n",
       "  <line x1=\"87\" y1=\"0\" x2=\"106\" y2=\"18\" />\n",
       "  <line x1=\"91\" y1=\"0\" x2=\"109\" y2=\"18\" />\n",
       "  <line x1=\"94\" y1=\"0\" x2=\"113\" y2=\"18\" />\n",
       "  <line x1=\"98\" y1=\"0\" x2=\"116\" y2=\"18\" />\n",
       "  <line x1=\"101\" y1=\"0\" x2=\"120\" y2=\"18\" />\n",
       "  <line x1=\"105\" y1=\"0\" x2=\"123\" y2=\"18\" />\n",
       "  <line x1=\"108\" y1=\"0\" x2=\"127\" y2=\"18\" />\n",
       "  <line x1=\"112\" y1=\"0\" x2=\"130\" y2=\"18\" />\n",
       "  <line x1=\"115\" y1=\"0\" x2=\"134\" y2=\"18\" />\n",
       "  <line x1=\"119\" y1=\"0\" x2=\"137\" y2=\"18\" />\n",
       "  <line x1=\"122\" y1=\"0\" x2=\"141\" y2=\"18\" />\n",
       "  <line x1=\"126\" y1=\"0\" x2=\"144\" y2=\"18\" />\n",
       "  <line x1=\"130\" y1=\"0\" x2=\"148\" y2=\"18\" style=\"stroke-width:2\" />\n",
       "\n",
       "  <!-- Colored Rectangle -->\n",
       "  <polygon points=\"10.000000,0.000000 130.000000,0.000000 148.395290,18.395290 28.395290,18.395290\" style=\"fill:#ECB172A0;stroke-width:0\"/>\n",
       "\n",
       "  <!-- Horizontal lines -->\n",
       "  <line x1=\"28\" y1=\"18\" x2=\"148\" y2=\"18\" style=\"stroke-width:2\" />\n",
       "  <line x1=\"28\" y1=\"21\" x2=\"148\" y2=\"21\" />\n",
       "  <line x1=\"28\" y1=\"25\" x2=\"148\" y2=\"25\" />\n",
       "  <line x1=\"28\" y1=\"28\" x2=\"148\" y2=\"28\" />\n",
       "  <line x1=\"28\" y1=\"32\" x2=\"148\" y2=\"32\" />\n",
       "  <line x1=\"28\" y1=\"36\" x2=\"148\" y2=\"36\" />\n",
       "  <line x1=\"28\" y1=\"39\" x2=\"148\" y2=\"39\" />\n",
       "  <line x1=\"28\" y1=\"43\" x2=\"148\" y2=\"43\" />\n",
       "  <line x1=\"28\" y1=\"46\" x2=\"148\" y2=\"46\" />\n",
       "  <line x1=\"28\" y1=\"50\" x2=\"148\" y2=\"50\" />\n",
       "  <line x1=\"28\" y1=\"53\" x2=\"148\" y2=\"53\" />\n",
       "  <line x1=\"28\" y1=\"57\" x2=\"148\" y2=\"57\" />\n",
       "  <line x1=\"28\" y1=\"60\" x2=\"148\" y2=\"60\" />\n",
       "  <line x1=\"28\" y1=\"64\" x2=\"148\" y2=\"64\" />\n",
       "  <line x1=\"28\" y1=\"67\" x2=\"148\" y2=\"67\" />\n",
       "  <line x1=\"28\" y1=\"71\" x2=\"148\" y2=\"71\" />\n",
       "  <line x1=\"28\" y1=\"74\" x2=\"148\" y2=\"74\" />\n",
       "  <line x1=\"28\" y1=\"78\" x2=\"148\" y2=\"78\" />\n",
       "  <line x1=\"28\" y1=\"81\" x2=\"148\" y2=\"81\" />\n",
       "  <line x1=\"28\" y1=\"85\" x2=\"148\" y2=\"85\" />\n",
       "  <line x1=\"28\" y1=\"88\" x2=\"148\" y2=\"88\" />\n",
       "  <line x1=\"28\" y1=\"92\" x2=\"148\" y2=\"92\" />\n",
       "  <line x1=\"28\" y1=\"96\" x2=\"148\" y2=\"96\" />\n",
       "  <line x1=\"28\" y1=\"99\" x2=\"148\" y2=\"99\" />\n",
       "  <line x1=\"28\" y1=\"103\" x2=\"148\" y2=\"103\" />\n",
       "  <line x1=\"28\" y1=\"106\" x2=\"148\" y2=\"106\" />\n",
       "  <line x1=\"28\" y1=\"110\" x2=\"148\" y2=\"110\" />\n",
       "  <line x1=\"28\" y1=\"113\" x2=\"148\" y2=\"113\" />\n",
       "  <line x1=\"28\" y1=\"117\" x2=\"148\" y2=\"117\" style=\"stroke-width:2\" />\n",
       "\n",
       "  <!-- Vertical lines -->\n",
       "  <line x1=\"28\" y1=\"18\" x2=\"28\" y2=\"117\" style=\"stroke-width:2\" />\n",
       "  <line x1=\"31\" y1=\"18\" x2=\"31\" y2=\"117\" />\n",
       "  <line x1=\"35\" y1=\"18\" x2=\"35\" y2=\"117\" />\n",
       "  <line x1=\"38\" y1=\"18\" x2=\"38\" y2=\"117\" />\n",
       "  <line x1=\"42\" y1=\"18\" x2=\"42\" y2=\"117\" />\n",
       "  <line x1=\"46\" y1=\"18\" x2=\"46\" y2=\"117\" />\n",
       "  <line x1=\"49\" y1=\"18\" x2=\"49\" y2=\"117\" />\n",
       "  <line x1=\"53\" y1=\"18\" x2=\"53\" y2=\"117\" />\n",
       "  <line x1=\"56\" y1=\"18\" x2=\"56\" y2=\"117\" />\n",
       "  <line x1=\"60\" y1=\"18\" x2=\"60\" y2=\"117\" />\n",
       "  <line x1=\"63\" y1=\"18\" x2=\"63\" y2=\"117\" />\n",
       "  <line x1=\"67\" y1=\"18\" x2=\"67\" y2=\"117\" />\n",
       "  <line x1=\"70\" y1=\"18\" x2=\"70\" y2=\"117\" />\n",
       "  <line x1=\"74\" y1=\"18\" x2=\"74\" y2=\"117\" />\n",
       "  <line x1=\"77\" y1=\"18\" x2=\"77\" y2=\"117\" />\n",
       "  <line x1=\"81\" y1=\"18\" x2=\"81\" y2=\"117\" />\n",
       "  <line x1=\"84\" y1=\"18\" x2=\"84\" y2=\"117\" />\n",
       "  <line x1=\"88\" y1=\"18\" x2=\"88\" y2=\"117\" />\n",
       "  <line x1=\"91\" y1=\"18\" x2=\"91\" y2=\"117\" />\n",
       "  <line x1=\"95\" y1=\"18\" x2=\"95\" y2=\"117\" />\n",
       "  <line x1=\"98\" y1=\"18\" x2=\"98\" y2=\"117\" />\n",
       "  <line x1=\"102\" y1=\"18\" x2=\"102\" y2=\"117\" />\n",
       "  <line x1=\"106\" y1=\"18\" x2=\"106\" y2=\"117\" />\n",
       "  <line x1=\"109\" y1=\"18\" x2=\"109\" y2=\"117\" />\n",
       "  <line x1=\"113\" y1=\"18\" x2=\"113\" y2=\"117\" />\n",
       "  <line x1=\"116\" y1=\"18\" x2=\"116\" y2=\"117\" />\n",
       "  <line x1=\"120\" y1=\"18\" x2=\"120\" y2=\"117\" />\n",
       "  <line x1=\"123\" y1=\"18\" x2=\"123\" y2=\"117\" />\n",
       "  <line x1=\"127\" y1=\"18\" x2=\"127\" y2=\"117\" />\n",
       "  <line x1=\"130\" y1=\"18\" x2=\"130\" y2=\"117\" />\n",
       "  <line x1=\"134\" y1=\"18\" x2=\"134\" y2=\"117\" />\n",
       "  <line x1=\"137\" y1=\"18\" x2=\"137\" y2=\"117\" />\n",
       "  <line x1=\"141\" y1=\"18\" x2=\"141\" y2=\"117\" />\n",
       "  <line x1=\"144\" y1=\"18\" x2=\"144\" y2=\"117\" />\n",
       "  <line x1=\"148\" y1=\"18\" x2=\"148\" y2=\"117\" style=\"stroke-width:2\" />\n",
       "\n",
       "  <!-- Colored Rectangle -->\n",
       "  <polygon points=\"28.395290,18.395290 148.395290,18.395290 148.395290,117.218819 28.395290,117.218819\" style=\"fill:#ECB172A0;stroke-width:0\"/>\n",
       "\n",
       "  <!-- Text -->\n",
       "  <text x=\"88.395290\" y=\"137.218819\" font-size=\"1.0rem\" font-weight=\"100\" text-anchor=\"middle\" >8704</text>\n",
       "  <text x=\"168.395290\" y=\"67.807054\" font-size=\"1.0rem\" font-weight=\"100\" text-anchor=\"middle\" transform=\"rotate(-90,168.395290,67.807054)\">7168</text>\n",
       "  <text x=\"9.197645\" y=\"128.021174\" font-size=\"1.0rem\" font-weight=\"100\" text-anchor=\"middle\" transform=\"rotate(45,9.197645,128.021174)\">256</text>\n",
       "</svg>\n",
       "</td>\n",
       "</tr>\n",
       "</table>"
      ],
      "text/plain": [
       "dask.array<from-zarr, shape=(256, 7168, 8704), dtype=float32, chunksize=(256, 256, 256), chunktype=numpy.ndarray>"
      ]
     },
     "execution_count": 19,
     "metadata": {},
     "output_type": "execute_result"
    }
   ],
   "source": [
    "file_path = '/hpc_utoz/vvib872/Data/MuSIC/CV54/J/roi_diff_bgm_deconv_CV54J_640.zarr'\n",
    "img = Image.from_zarr(file_path)\n",
    "img.info()"
   ]
  },
  {
   "cell_type": "markdown",
   "metadata": {},
   "source": [
    "### View Image"
   ]
  },
  {
   "cell_type": "code",
   "execution_count": 20,
   "metadata": {
    "scrolled": false
   },
   "outputs": [
    {
     "data": {
      "image/png": "[encoded data removed]",
      "text/plain": [
       "<Figure size 1080x1080 with 2 Axes>"
      ]
     },
     "metadata": {
      "needs_background": "light"
     },
     "output_type": "display_data"
    },
    {
     "name": "stdout",
     "output_type": "stream",
     "text": [
      "image_path: /hpc_utoz/vvib872/Data/MuSIC/CV54/J/roi_diff_bgm_deconv_CV54J_640.zarr\n"
     ]
    },
    {
     "data": {
      "text/html": [
       "<table>\n",
       "<tr>\n",
       "<td>\n",
       "<table>\n",
       "  <thead>\n",
       "    <tr><td> </td><th> Array </th><th> Chunk </th></tr>\n",
       "  </thead>\n",
       "  <tbody>\n",
       "    <tr><th> Bytes </th><td> 63.89 GB </td> <td> 67.11 MB </td></tr>\n",
       "    <tr><th> Shape </th><td> (256, 7168, 8704) </td> <td> (256, 256, 256) </td></tr>\n",
       "    <tr><th> Count </th><td> 953 Tasks </td><td> 952 Chunks </td></tr>\n",
       "    <tr><th> Type </th><td> float32 </td><td> numpy.ndarray </td></tr>\n",
       "  </tbody>\n",
       "</table>\n",
       "</td>\n",
       "<td>\n",
       "<svg width=\"198\" height=\"167\" style=\"stroke:rgb(0,0,0);stroke-width:1\" >\n",
       "\n",
       "  <!-- Horizontal lines -->\n",
       "  <line x1=\"10\" y1=\"0\" x2=\"28\" y2=\"18\" style=\"stroke-width:2\" />\n",
       "  <line x1=\"10\" y1=\"3\" x2=\"28\" y2=\"21\" />\n",
       "  <line x1=\"10\" y1=\"7\" x2=\"28\" y2=\"25\" />\n",
       "  <line x1=\"10\" y1=\"10\" x2=\"28\" y2=\"28\" />\n",
       "  <line x1=\"10\" y1=\"14\" x2=\"28\" y2=\"32\" />\n",
       "  <line x1=\"10\" y1=\"17\" x2=\"28\" y2=\"36\" />\n",
       "  <line x1=\"10\" y1=\"21\" x2=\"28\" y2=\"39\" />\n",
       "  <line x1=\"10\" y1=\"24\" x2=\"28\" y2=\"43\" />\n",
       "  <line x1=\"10\" y1=\"28\" x2=\"28\" y2=\"46\" />\n",
       "  <line x1=\"10\" y1=\"31\" x2=\"28\" y2=\"50\" />\n",
       "  <line x1=\"10\" y1=\"35\" x2=\"28\" y2=\"53\" />\n",
       "  <line x1=\"10\" y1=\"38\" x2=\"28\" y2=\"57\" />\n",
       "  <line x1=\"10\" y1=\"42\" x2=\"28\" y2=\"60\" />\n",
       "  <line x1=\"10\" y1=\"45\" x2=\"28\" y2=\"64\" />\n",
       "  <line x1=\"10\" y1=\"49\" x2=\"28\" y2=\"67\" />\n",
       "  <line x1=\"10\" y1=\"52\" x2=\"28\" y2=\"71\" />\n",
       "  <line x1=\"10\" y1=\"56\" x2=\"28\" y2=\"74\" />\n",
       "  <line x1=\"10\" y1=\"60\" x2=\"28\" y2=\"78\" />\n",
       "  <line x1=\"10\" y1=\"63\" x2=\"28\" y2=\"81\" />\n",
       "  <line x1=\"10\" y1=\"67\" x2=\"28\" y2=\"85\" />\n",
       "  <line x1=\"10\" y1=\"70\" x2=\"28\" y2=\"88\" />\n",
       "  <line x1=\"10\" y1=\"74\" x2=\"28\" y2=\"92\" />\n",
       "  <line x1=\"10\" y1=\"77\" x2=\"28\" y2=\"96\" />\n",
       "  <line x1=\"10\" y1=\"81\" x2=\"28\" y2=\"99\" />\n",
       "  <line x1=\"10\" y1=\"84\" x2=\"28\" y2=\"103\" />\n",
       "  <line x1=\"10\" y1=\"88\" x2=\"28\" y2=\"106\" />\n",
       "  <line x1=\"10\" y1=\"91\" x2=\"28\" y2=\"110\" />\n",
       "  <line x1=\"10\" y1=\"95\" x2=\"28\" y2=\"113\" />\n",
       "  <line x1=\"10\" y1=\"98\" x2=\"28\" y2=\"117\" style=\"stroke-width:2\" />\n",
       "\n",
       "  <!-- Vertical lines -->\n",
       "  <line x1=\"10\" y1=\"0\" x2=\"10\" y2=\"98\" style=\"stroke-width:2\" />\n",
       "  <line x1=\"28\" y1=\"18\" x2=\"28\" y2=\"117\" style=\"stroke-width:2\" />\n",
       "\n",
       "  <!-- Colored Rectangle -->\n",
       "  <polygon points=\"10.000000,0.000000 28.395290,18.395290 28.395290,117.218819 10.000000,98.823529\" style=\"fill:#ECB172A0;stroke-width:0\"/>\n",
       "\n",
       "  <!-- Horizontal lines -->\n",
       "  <line x1=\"10\" y1=\"0\" x2=\"130\" y2=\"0\" style=\"stroke-width:2\" />\n",
       "  <line x1=\"28\" y1=\"18\" x2=\"148\" y2=\"18\" style=\"stroke-width:2\" />\n",
       "\n",
       "  <!-- Vertical lines -->\n",
       "  <line x1=\"10\" y1=\"0\" x2=\"28\" y2=\"18\" style=\"stroke-width:2\" />\n",
       "  <line x1=\"13\" y1=\"0\" x2=\"31\" y2=\"18\" />\n",
       "  <line x1=\"17\" y1=\"0\" x2=\"35\" y2=\"18\" />\n",
       "  <line x1=\"20\" y1=\"0\" x2=\"38\" y2=\"18\" />\n",
       "  <line x1=\"24\" y1=\"0\" x2=\"42\" y2=\"18\" />\n",
       "  <line x1=\"27\" y1=\"0\" x2=\"46\" y2=\"18\" />\n",
       "  <line x1=\"31\" y1=\"0\" x2=\"49\" y2=\"18\" />\n",
       "  <line x1=\"34\" y1=\"0\" x2=\"53\" y2=\"18\" />\n",
       "  <line x1=\"38\" y1=\"0\" x2=\"56\" y2=\"18\" />\n",
       "  <line x1=\"41\" y1=\"0\" x2=\"60\" y2=\"18\" />\n",
       "  <line x1=\"45\" y1=\"0\" x2=\"63\" y2=\"18\" />\n",
       "  <line x1=\"48\" y1=\"0\" x2=\"67\" y2=\"18\" />\n",
       "  <line x1=\"52\" y1=\"0\" x2=\"70\" y2=\"18\" />\n",
       "  <line x1=\"55\" y1=\"0\" x2=\"74\" y2=\"18\" />\n",
       "  <line x1=\"59\" y1=\"0\" x2=\"77\" y2=\"18\" />\n",
       "  <line x1=\"62\" y1=\"0\" x2=\"81\" y2=\"18\" />\n",
       "  <line x1=\"66\" y1=\"0\" x2=\"84\" y2=\"18\" />\n",
       "  <line x1=\"70\" y1=\"0\" x2=\"88\" y2=\"18\" />\n",
       "  <line x1=\"73\" y1=\"0\" x2=\"91\" y2=\"18\" />\n",
       "  <line x1=\"77\" y1=\"0\" x2=\"95\" y2=\"18\" />\n",
       "  <line x1=\"80\" y1=\"0\" x2=\"98\" y2=\"18\" />\n",
       "  <line x1=\"84\" y1=\"0\" x2=\"102\" y2=\"18\" />\n",
       "  <line x1=\"87\" y1=\"0\" x2=\"106\" y2=\"18\" />\n",
       "  <line x1=\"91\" y1=\"0\" x2=\"109\" y2=\"18\" />\n",
       "  <line x1=\"94\" y1=\"0\" x2=\"113\" y2=\"18\" />\n",
       "  <line x1=\"98\" y1=\"0\" x2=\"116\" y2=\"18\" />\n",
       "  <line x1=\"101\" y1=\"0\" x2=\"120\" y2=\"18\" />\n",
       "  <line x1=\"105\" y1=\"0\" x2=\"123\" y2=\"18\" />\n",
       "  <line x1=\"108\" y1=\"0\" x2=\"127\" y2=\"18\" />\n",
       "  <line x1=\"112\" y1=\"0\" x2=\"130\" y2=\"18\" />\n",
       "  <line x1=\"115\" y1=\"0\" x2=\"134\" y2=\"18\" />\n",
       "  <line x1=\"119\" y1=\"0\" x2=\"137\" y2=\"18\" />\n",
       "  <line x1=\"122\" y1=\"0\" x2=\"141\" y2=\"18\" />\n",
       "  <line x1=\"126\" y1=\"0\" x2=\"144\" y2=\"18\" />\n",
       "  <line x1=\"130\" y1=\"0\" x2=\"148\" y2=\"18\" style=\"stroke-width:2\" />\n",
       "\n",
       "  <!-- Colored Rectangle -->\n",
       "  <polygon points=\"10.000000,0.000000 130.000000,0.000000 148.395290,18.395290 28.395290,18.395290\" style=\"fill:#ECB172A0;stroke-width:0\"/>\n",
       "\n",
       "  <!-- Horizontal lines -->\n",
       "  <line x1=\"28\" y1=\"18\" x2=\"148\" y2=\"18\" style=\"stroke-width:2\" />\n",
       "  <line x1=\"28\" y1=\"21\" x2=\"148\" y2=\"21\" />\n",
       "  <line x1=\"28\" y1=\"25\" x2=\"148\" y2=\"25\" />\n",
       "  <line x1=\"28\" y1=\"28\" x2=\"148\" y2=\"28\" />\n",
       "  <line x1=\"28\" y1=\"32\" x2=\"148\" y2=\"32\" />\n",
       "  <line x1=\"28\" y1=\"36\" x2=\"148\" y2=\"36\" />\n",
       "  <line x1=\"28\" y1=\"39\" x2=\"148\" y2=\"39\" />\n",
       "  <line x1=\"28\" y1=\"43\" x2=\"148\" y2=\"43\" />\n",
       "  <line x1=\"28\" y1=\"46\" x2=\"148\" y2=\"46\" />\n",
       "  <line x1=\"28\" y1=\"50\" x2=\"148\" y2=\"50\" />\n",
       "  <line x1=\"28\" y1=\"53\" x2=\"148\" y2=\"53\" />\n",
       "  <line x1=\"28\" y1=\"57\" x2=\"148\" y2=\"57\" />\n",
       "  <line x1=\"28\" y1=\"60\" x2=\"148\" y2=\"60\" />\n",
       "  <line x1=\"28\" y1=\"64\" x2=\"148\" y2=\"64\" />\n",
       "  <line x1=\"28\" y1=\"67\" x2=\"148\" y2=\"67\" />\n",
       "  <line x1=\"28\" y1=\"71\" x2=\"148\" y2=\"71\" />\n",
       "  <line x1=\"28\" y1=\"74\" x2=\"148\" y2=\"74\" />\n",
       "  <line x1=\"28\" y1=\"78\" x2=\"148\" y2=\"78\" />\n",
       "  <line x1=\"28\" y1=\"81\" x2=\"148\" y2=\"81\" />\n",
       "  <line x1=\"28\" y1=\"85\" x2=\"148\" y2=\"85\" />\n",
       "  <line x1=\"28\" y1=\"88\" x2=\"148\" y2=\"88\" />\n",
       "  <line x1=\"28\" y1=\"92\" x2=\"148\" y2=\"92\" />\n",
       "  <line x1=\"28\" y1=\"96\" x2=\"148\" y2=\"96\" />\n",
       "  <line x1=\"28\" y1=\"99\" x2=\"148\" y2=\"99\" />\n",
       "  <line x1=\"28\" y1=\"103\" x2=\"148\" y2=\"103\" />\n",
       "  <line x1=\"28\" y1=\"106\" x2=\"148\" y2=\"106\" />\n",
       "  <line x1=\"28\" y1=\"110\" x2=\"148\" y2=\"110\" />\n",
       "  <line x1=\"28\" y1=\"113\" x2=\"148\" y2=\"113\" />\n",
       "  <line x1=\"28\" y1=\"117\" x2=\"148\" y2=\"117\" style=\"stroke-width:2\" />\n",
       "\n",
       "  <!-- Vertical lines -->\n",
       "  <line x1=\"28\" y1=\"18\" x2=\"28\" y2=\"117\" style=\"stroke-width:2\" />\n",
       "  <line x1=\"31\" y1=\"18\" x2=\"31\" y2=\"117\" />\n",
       "  <line x1=\"35\" y1=\"18\" x2=\"35\" y2=\"117\" />\n",
       "  <line x1=\"38\" y1=\"18\" x2=\"38\" y2=\"117\" />\n",
       "  <line x1=\"42\" y1=\"18\" x2=\"42\" y2=\"117\" />\n",
       "  <line x1=\"46\" y1=\"18\" x2=\"46\" y2=\"117\" />\n",
       "  <line x1=\"49\" y1=\"18\" x2=\"49\" y2=\"117\" />\n",
       "  <line x1=\"53\" y1=\"18\" x2=\"53\" y2=\"117\" />\n",
       "  <line x1=\"56\" y1=\"18\" x2=\"56\" y2=\"117\" />\n",
       "  <line x1=\"60\" y1=\"18\" x2=\"60\" y2=\"117\" />\n",
       "  <line x1=\"63\" y1=\"18\" x2=\"63\" y2=\"117\" />\n",
       "  <line x1=\"67\" y1=\"18\" x2=\"67\" y2=\"117\" />\n",
       "  <line x1=\"70\" y1=\"18\" x2=\"70\" y2=\"117\" />\n",
       "  <line x1=\"74\" y1=\"18\" x2=\"74\" y2=\"117\" />\n",
       "  <line x1=\"77\" y1=\"18\" x2=\"77\" y2=\"117\" />\n",
       "  <line x1=\"81\" y1=\"18\" x2=\"81\" y2=\"117\" />\n",
       "  <line x1=\"84\" y1=\"18\" x2=\"84\" y2=\"117\" />\n",
       "  <line x1=\"88\" y1=\"18\" x2=\"88\" y2=\"117\" />\n",
       "  <line x1=\"91\" y1=\"18\" x2=\"91\" y2=\"117\" />\n",
       "  <line x1=\"95\" y1=\"18\" x2=\"95\" y2=\"117\" />\n",
       "  <line x1=\"98\" y1=\"18\" x2=\"98\" y2=\"117\" />\n",
       "  <line x1=\"102\" y1=\"18\" x2=\"102\" y2=\"117\" />\n",
       "  <line x1=\"106\" y1=\"18\" x2=\"106\" y2=\"117\" />\n",
       "  <line x1=\"109\" y1=\"18\" x2=\"109\" y2=\"117\" />\n",
       "  <line x1=\"113\" y1=\"18\" x2=\"113\" y2=\"117\" />\n",
       "  <line x1=\"116\" y1=\"18\" x2=\"116\" y2=\"117\" />\n",
       "  <line x1=\"120\" y1=\"18\" x2=\"120\" y2=\"117\" />\n",
       "  <line x1=\"123\" y1=\"18\" x2=\"123\" y2=\"117\" />\n",
       "  <line x1=\"127\" y1=\"18\" x2=\"127\" y2=\"117\" />\n",
       "  <line x1=\"130\" y1=\"18\" x2=\"130\" y2=\"117\" />\n",
       "  <line x1=\"134\" y1=\"18\" x2=\"134\" y2=\"117\" />\n",
       "  <line x1=\"137\" y1=\"18\" x2=\"137\" y2=\"117\" />\n",
       "  <line x1=\"141\" y1=\"18\" x2=\"141\" y2=\"117\" />\n",
       "  <line x1=\"144\" y1=\"18\" x2=\"144\" y2=\"117\" />\n",
       "  <line x1=\"148\" y1=\"18\" x2=\"148\" y2=\"117\" style=\"stroke-width:2\" />\n",
       "\n",
       "  <!-- Colored Rectangle -->\n",
       "  <polygon points=\"28.395290,18.395290 148.395290,18.395290 148.395290,117.218819 28.395290,117.218819\" style=\"fill:#ECB172A0;stroke-width:0\"/>\n",
       "\n",
       "  <!-- Text -->\n",
       "  <text x=\"88.395290\" y=\"137.218819\" font-size=\"1.0rem\" font-weight=\"100\" text-anchor=\"middle\" >8704</text>\n",
       "  <text x=\"168.395290\" y=\"67.807054\" font-size=\"1.0rem\" font-weight=\"100\" text-anchor=\"middle\" transform=\"rotate(-90,168.395290,67.807054)\">7168</text>\n",
       "  <text x=\"9.197645\" y=\"128.021174\" font-size=\"1.0rem\" font-weight=\"100\" text-anchor=\"middle\" transform=\"rotate(45,9.197645,128.021174)\">256</text>\n",
       "</svg>\n",
       "</td>\n",
       "</tr>\n",
       "</table>"
      ],
      "text/plain": [
       "dask.array<from-zarr, shape=(256, 7168, 8704), dtype=float32, chunksize=(256, 256, 256), chunktype=numpy.ndarray>"
      ]
     },
     "execution_count": 20,
     "metadata": {},
     "output_type": "execute_result"
    }
   ],
   "source": [
    "img.visualize(plane ='XY', slice_no=10, img_start=(0,0),img_end=(None,None))\n",
    "img.info()"
   ]
  },
  {
   "cell_type": "markdown",
   "metadata": {},
   "source": [
    "### Set parameters"
   ]
  },
  {
   "cell_type": "code",
   "execution_count": 21,
   "metadata": {},
   "outputs": [
    {
     "data": {
      "text/plain": [
       "(64, 64, 64)"
      ]
     },
     "execution_count": 21,
     "metadata": {},
     "output_type": "execute_result"
    }
   ],
   "source": [
    "import math\n",
    "\n",
    "chunk_size = (256,256,256)\n",
    "img_resolution = (1,1,1)\n",
    "\n",
    "prefix = 'ds'\n",
    "overlap = (16,16,16)\n",
    "\n",
    "scale = (0.5,0.5,0.5) #double scale\n",
    "save_chunk_size = tuple(map(lambda x,c: math.ceil(x*c),chunk_size,scale))\n",
    "save_chunk_size = (64,64,64)\n",
    "save_chunk_size"
   ]
  },
  {
   "cell_type": "markdown",
   "metadata": {},
   "source": [
    "### Test on a sample"
   ]
  },
  {
   "cell_type": "code",
   "execution_count": 113,
   "metadata": {},
   "outputs": [
    {
     "ename": "ValueError",
     "evalue": "parameter 'value': expected array with shape (128, 128, 128), got (128, 128, 64)",
     "output_type": "error",
     "traceback": [
      "\u001b[0;31m---------------------------------------------------------------------------\u001b[0m",
      "\u001b[0;31mValueError\u001b[0m                                Traceback (most recent call last)",
      "\u001b[0;32m<ipython-input-113-3eaf25287744>\u001b[0m in \u001b[0;36m<module>\u001b[0;34m\u001b[0m\n\u001b[1;32m      1\u001b[0m \u001b[0msample_range\u001b[0m \u001b[0;34m=\u001b[0m \u001b[0;34m(\u001b[0m\u001b[0;34m(\u001b[0m\u001b[0;36m0\u001b[0m\u001b[0;34m,\u001b[0m\u001b[0;32mNone\u001b[0m\u001b[0;34m)\u001b[0m\u001b[0;34m,\u001b[0m\u001b[0;34m(\u001b[0m\u001b[0;36m0\u001b[0m\u001b[0;34m,\u001b[0m\u001b[0;32mNone\u001b[0m\u001b[0;34m)\u001b[0m\u001b[0;34m,\u001b[0m\u001b[0;34m(\u001b[0m\u001b[0;36m0\u001b[0m\u001b[0;34m,\u001b[0m\u001b[0;36m2048\u001b[0m\u001b[0;34m)\u001b[0m\u001b[0;34m)\u001b[0m\u001b[0;34m\u001b[0m\u001b[0;34m\u001b[0m\u001b[0m\n\u001b[1;32m      2\u001b[0m \u001b[0;34m\u001b[0m\u001b[0m\n\u001b[0;32m----> 3\u001b[0;31m \u001b[0msample_img\u001b[0m \u001b[0;34m=\u001b[0m \u001b[0mimg\u001b[0m\u001b[0;34m.\u001b[0m\u001b[0msample\u001b[0m\u001b[0;34m(\u001b[0m\u001b[0msample_range\u001b[0m\u001b[0;34m)\u001b[0m\u001b[0;34m\u001b[0m\u001b[0;34m\u001b[0m\u001b[0m\n\u001b[0m\u001b[1;32m      4\u001b[0m \u001b[0msample_img\u001b[0m\u001b[0;34m.\u001b[0m\u001b[0mto_float\u001b[0m\u001b[0;34m(\u001b[0m\u001b[0;34m)\u001b[0m\u001b[0;34m\u001b[0m\u001b[0;34m\u001b[0m\u001b[0m\n\u001b[1;32m      5\u001b[0m \u001b[0msample_img\u001b[0m\u001b[0;34m.\u001b[0m\u001b[0mvisualize\u001b[0m\u001b[0;34m(\u001b[0m\u001b[0mplane\u001b[0m \u001b[0;34m=\u001b[0m\u001b[0;34m'XY'\u001b[0m\u001b[0;34m,\u001b[0m \u001b[0mslice_no\u001b[0m\u001b[0;34m=\u001b[0m\u001b[0;36m150\u001b[0m\u001b[0;34m,\u001b[0m \u001b[0mimg_start\u001b[0m\u001b[0;34m=\u001b[0m\u001b[0;34m(\u001b[0m\u001b[0;36m0\u001b[0m\u001b[0;34m,\u001b[0m\u001b[0;36m0\u001b[0m\u001b[0;34m)\u001b[0m\u001b[0;34m,\u001b[0m\u001b[0mimg_end\u001b[0m\u001b[0;34m=\u001b[0m\u001b[0;34m(\u001b[0m\u001b[0;32mNone\u001b[0m\u001b[0;34m,\u001b[0m\u001b[0;32mNone\u001b[0m\u001b[0;34m)\u001b[0m\u001b[0;34m)\u001b[0m\u001b[0;34m\u001b[0m\u001b[0;34m\u001b[0m\u001b[0m\n",
      "\u001b[0;32m/hpc_utoz/vvib872/Code/deconv-music/dask_image_processing.py\u001b[0m in \u001b[0;36msample\u001b[0;34m(self, img_range, prefix, chunk_size)\u001b[0m\n\u001b[1;32m     62\u001b[0m         \u001b[0mtemp\u001b[0m \u001b[0;34m=\u001b[0m \u001b[0mself\u001b[0m\u001b[0;34m.\u001b[0m\u001b[0mdask_img\u001b[0m\u001b[0;34m[\u001b[0m\u001b[0mslice_img_range\u001b[0m\u001b[0;34m]\u001b[0m\u001b[0;34m\u001b[0m\u001b[0;34m\u001b[0m\u001b[0m\n\u001b[1;32m     63\u001b[0m \u001b[0;34m\u001b[0m\u001b[0m\n\u001b[0;32m---> 64\u001b[0;31m         \u001b[0mda\u001b[0m\u001b[0;34m.\u001b[0m\u001b[0mto_zarr\u001b[0m\u001b[0;34m(\u001b[0m\u001b[0mtemp\u001b[0m\u001b[0;34m,\u001b[0m \u001b[0mz_out\u001b[0m\u001b[0;34m)\u001b[0m\u001b[0;34m\u001b[0m\u001b[0;34m\u001b[0m\u001b[0m\n\u001b[0m\u001b[1;32m     65\u001b[0m         \u001b[0;32mreturn\u001b[0m \u001b[0mImage\u001b[0m\u001b[0;34m.\u001b[0m\u001b[0mfrom_zarr\u001b[0m\u001b[0;34m(\u001b[0m\u001b[0msave_path\u001b[0m\u001b[0;34m)\u001b[0m\u001b[0;34m\u001b[0m\u001b[0;34m\u001b[0m\u001b[0m\n\u001b[1;32m     66\u001b[0m \u001b[0;34m\u001b[0m\u001b[0m\n",
      "\u001b[0;32m/hpc_utoz/vvib872/Software/envs/deconv/lib/python3.8/site-packages/dask/array/core.py\u001b[0m in \u001b[0;36mto_zarr\u001b[0;34m(arr, url, component, storage_options, overwrite, compute, return_stored, **kwargs)\u001b[0m\n\u001b[1;32m   3029\u001b[0m             )\n\u001b[1;32m   3030\u001b[0m         \u001b[0marr\u001b[0m \u001b[0;34m=\u001b[0m \u001b[0marr\u001b[0m\u001b[0;34m.\u001b[0m\u001b[0mrechunk\u001b[0m\u001b[0;34m(\u001b[0m\u001b[0mz\u001b[0m\u001b[0;34m.\u001b[0m\u001b[0mchunks\u001b[0m\u001b[0;34m)\u001b[0m\u001b[0;34m\u001b[0m\u001b[0;34m\u001b[0m\u001b[0m\n\u001b[0;32m-> 3031\u001b[0;31m         \u001b[0;32mreturn\u001b[0m \u001b[0marr\u001b[0m\u001b[0;34m.\u001b[0m\u001b[0mstore\u001b[0m\u001b[0;34m(\u001b[0m\u001b[0mz\u001b[0m\u001b[0;34m,\u001b[0m \u001b[0mlock\u001b[0m\u001b[0;34m=\u001b[0m\u001b[0;32mFalse\u001b[0m\u001b[0;34m,\u001b[0m \u001b[0mcompute\u001b[0m\u001b[0;34m=\u001b[0m\u001b[0mcompute\u001b[0m\u001b[0;34m,\u001b[0m \u001b[0mreturn_stored\u001b[0m\u001b[0;34m=\u001b[0m\u001b[0mreturn_stored\u001b[0m\u001b[0;34m)\u001b[0m\u001b[0;34m\u001b[0m\u001b[0;34m\u001b[0m\u001b[0m\n\u001b[0m\u001b[1;32m   3032\u001b[0m \u001b[0;34m\u001b[0m\u001b[0m\n\u001b[1;32m   3033\u001b[0m     \u001b[0;32mif\u001b[0m \u001b[0;32mnot\u001b[0m \u001b[0m_check_regular_chunks\u001b[0m\u001b[0;34m(\u001b[0m\u001b[0marr\u001b[0m\u001b[0;34m.\u001b[0m\u001b[0mchunks\u001b[0m\u001b[0;34m)\u001b[0m\u001b[0;34m:\u001b[0m\u001b[0;34m\u001b[0m\u001b[0;34m\u001b[0m\u001b[0m\n",
      "\u001b[0;32m/hpc_utoz/vvib872/Software/envs/deconv/lib/python3.8/site-packages/dask/array/core.py\u001b[0m in \u001b[0;36mstore\u001b[0;34m(self, target, **kwargs)\u001b[0m\n\u001b[1;32m   1420\u001b[0m     \u001b[0;34m@\u001b[0m\u001b[0mwraps\u001b[0m\u001b[0;34m(\u001b[0m\u001b[0mstore\u001b[0m\u001b[0;34m)\u001b[0m\u001b[0;34m\u001b[0m\u001b[0;34m\u001b[0m\u001b[0m\n\u001b[1;32m   1421\u001b[0m     \u001b[0;32mdef\u001b[0m \u001b[0mstore\u001b[0m\u001b[0;34m(\u001b[0m\u001b[0mself\u001b[0m\u001b[0;34m,\u001b[0m \u001b[0mtarget\u001b[0m\u001b[0;34m,\u001b[0m \u001b[0;34m**\u001b[0m\u001b[0mkwargs\u001b[0m\u001b[0;34m)\u001b[0m\u001b[0;34m:\u001b[0m\u001b[0;34m\u001b[0m\u001b[0;34m\u001b[0m\u001b[0m\n\u001b[0;32m-> 1422\u001b[0;31m         \u001b[0mr\u001b[0m \u001b[0;34m=\u001b[0m \u001b[0mstore\u001b[0m\u001b[0;34m(\u001b[0m\u001b[0;34m[\u001b[0m\u001b[0mself\u001b[0m\u001b[0;34m]\u001b[0m\u001b[0;34m,\u001b[0m \u001b[0;34m[\u001b[0m\u001b[0mtarget\u001b[0m\u001b[0;34m]\u001b[0m\u001b[0;34m,\u001b[0m \u001b[0;34m**\u001b[0m\u001b[0mkwargs\u001b[0m\u001b[0;34m)\u001b[0m\u001b[0;34m\u001b[0m\u001b[0;34m\u001b[0m\u001b[0m\n\u001b[0m\u001b[1;32m   1423\u001b[0m \u001b[0;34m\u001b[0m\u001b[0m\n\u001b[1;32m   1424\u001b[0m         \u001b[0;32mif\u001b[0m \u001b[0mkwargs\u001b[0m\u001b[0;34m.\u001b[0m\u001b[0mget\u001b[0m\u001b[0;34m(\u001b[0m\u001b[0;34m\"return_stored\"\u001b[0m\u001b[0;34m,\u001b[0m \u001b[0;32mFalse\u001b[0m\u001b[0;34m)\u001b[0m\u001b[0;34m:\u001b[0m\u001b[0;34m\u001b[0m\u001b[0;34m\u001b[0m\u001b[0m\n",
      "\u001b[0;32m/hpc_utoz/vvib872/Software/envs/deconv/lib/python3.8/site-packages/dask/array/core.py\u001b[0m in \u001b[0;36mstore\u001b[0;34m(sources, targets, lock, regions, compute, return_stored, **kwargs)\u001b[0m\n\u001b[1;32m    967\u001b[0m \u001b[0;34m\u001b[0m\u001b[0m\n\u001b[1;32m    968\u001b[0m         \u001b[0;32mif\u001b[0m \u001b[0mcompute\u001b[0m\u001b[0;34m:\u001b[0m\u001b[0;34m\u001b[0m\u001b[0;34m\u001b[0m\u001b[0m\n\u001b[0;32m--> 969\u001b[0;31m             \u001b[0mresult\u001b[0m\u001b[0;34m.\u001b[0m\u001b[0mcompute\u001b[0m\u001b[0;34m(\u001b[0m\u001b[0;34m**\u001b[0m\u001b[0mkwargs\u001b[0m\u001b[0;34m)\u001b[0m\u001b[0;34m\u001b[0m\u001b[0;34m\u001b[0m\u001b[0m\n\u001b[0m\u001b[1;32m    970\u001b[0m             \u001b[0;32mreturn\u001b[0m \u001b[0;32mNone\u001b[0m\u001b[0;34m\u001b[0m\u001b[0;34m\u001b[0m\u001b[0m\n\u001b[1;32m    971\u001b[0m         \u001b[0;32melse\u001b[0m\u001b[0;34m:\u001b[0m\u001b[0;34m\u001b[0m\u001b[0;34m\u001b[0m\u001b[0m\n",
      "\u001b[0;32m/hpc_utoz/vvib872/Software/envs/deconv/lib/python3.8/site-packages/dask/base.py\u001b[0m in \u001b[0;36mcompute\u001b[0;34m(self, **kwargs)\u001b[0m\n\u001b[1;32m    165\u001b[0m         \u001b[0mdask\u001b[0m\u001b[0;34m.\u001b[0m\u001b[0mbase\u001b[0m\u001b[0;34m.\u001b[0m\u001b[0mcompute\u001b[0m\u001b[0;34m\u001b[0m\u001b[0;34m\u001b[0m\u001b[0m\n\u001b[1;32m    166\u001b[0m         \"\"\"\n\u001b[0;32m--> 167\u001b[0;31m         \u001b[0;34m(\u001b[0m\u001b[0mresult\u001b[0m\u001b[0;34m,\u001b[0m\u001b[0;34m)\u001b[0m \u001b[0;34m=\u001b[0m \u001b[0mcompute\u001b[0m\u001b[0;34m(\u001b[0m\u001b[0mself\u001b[0m\u001b[0;34m,\u001b[0m \u001b[0mtraverse\u001b[0m\u001b[0;34m=\u001b[0m\u001b[0;32mFalse\u001b[0m\u001b[0;34m,\u001b[0m \u001b[0;34m**\u001b[0m\u001b[0mkwargs\u001b[0m\u001b[0;34m)\u001b[0m\u001b[0;34m\u001b[0m\u001b[0;34m\u001b[0m\u001b[0m\n\u001b[0m\u001b[1;32m    168\u001b[0m         \u001b[0;32mreturn\u001b[0m \u001b[0mresult\u001b[0m\u001b[0;34m\u001b[0m\u001b[0;34m\u001b[0m\u001b[0m\n\u001b[1;32m    169\u001b[0m \u001b[0;34m\u001b[0m\u001b[0m\n",
      "\u001b[0;32m/hpc_utoz/vvib872/Software/envs/deconv/lib/python3.8/site-packages/dask/base.py\u001b[0m in \u001b[0;36mcompute\u001b[0;34m(*args, **kwargs)\u001b[0m\n\u001b[1;32m    450\u001b[0m         \u001b[0mpostcomputes\u001b[0m\u001b[0;34m.\u001b[0m\u001b[0mappend\u001b[0m\u001b[0;34m(\u001b[0m\u001b[0mx\u001b[0m\u001b[0;34m.\u001b[0m\u001b[0m__dask_postcompute__\u001b[0m\u001b[0;34m(\u001b[0m\u001b[0;34m)\u001b[0m\u001b[0;34m)\u001b[0m\u001b[0;34m\u001b[0m\u001b[0;34m\u001b[0m\u001b[0m\n\u001b[1;32m    451\u001b[0m \u001b[0;34m\u001b[0m\u001b[0m\n\u001b[0;32m--> 452\u001b[0;31m     \u001b[0mresults\u001b[0m \u001b[0;34m=\u001b[0m \u001b[0mschedule\u001b[0m\u001b[0;34m(\u001b[0m\u001b[0mdsk\u001b[0m\u001b[0;34m,\u001b[0m \u001b[0mkeys\u001b[0m\u001b[0;34m,\u001b[0m \u001b[0;34m**\u001b[0m\u001b[0mkwargs\u001b[0m\u001b[0;34m)\u001b[0m\u001b[0;34m\u001b[0m\u001b[0;34m\u001b[0m\u001b[0m\n\u001b[0m\u001b[1;32m    453\u001b[0m     \u001b[0;32mreturn\u001b[0m \u001b[0mrepack\u001b[0m\u001b[0;34m(\u001b[0m\u001b[0;34m[\u001b[0m\u001b[0mf\u001b[0m\u001b[0;34m(\u001b[0m\u001b[0mr\u001b[0m\u001b[0;34m,\u001b[0m \u001b[0;34m*\u001b[0m\u001b[0ma\u001b[0m\u001b[0;34m)\u001b[0m \u001b[0;32mfor\u001b[0m \u001b[0mr\u001b[0m\u001b[0;34m,\u001b[0m \u001b[0;34m(\u001b[0m\u001b[0mf\u001b[0m\u001b[0;34m,\u001b[0m \u001b[0ma\u001b[0m\u001b[0;34m)\u001b[0m \u001b[0;32min\u001b[0m \u001b[0mzip\u001b[0m\u001b[0;34m(\u001b[0m\u001b[0mresults\u001b[0m\u001b[0;34m,\u001b[0m \u001b[0mpostcomputes\u001b[0m\u001b[0;34m)\u001b[0m\u001b[0;34m]\u001b[0m\u001b[0;34m)\u001b[0m\u001b[0;34m\u001b[0m\u001b[0;34m\u001b[0m\u001b[0m\n\u001b[1;32m    454\u001b[0m \u001b[0;34m\u001b[0m\u001b[0m\n",
      "\u001b[0;32m/hpc_utoz/vvib872/Software/envs/deconv/lib/python3.8/site-packages/distributed/client.py\u001b[0m in \u001b[0;36mget\u001b[0;34m(self, dsk, keys, restrictions, loose_restrictions, resources, sync, asynchronous, direct, retries, priority, fifo_timeout, actors, **kwargs)\u001b[0m\n\u001b[1;32m   2712\u001b[0m                     \u001b[0mshould_rejoin\u001b[0m \u001b[0;34m=\u001b[0m \u001b[0;32mFalse\u001b[0m\u001b[0;34m\u001b[0m\u001b[0;34m\u001b[0m\u001b[0m\n\u001b[1;32m   2713\u001b[0m             \u001b[0;32mtry\u001b[0m\u001b[0;34m:\u001b[0m\u001b[0;34m\u001b[0m\u001b[0;34m\u001b[0m\u001b[0m\n\u001b[0;32m-> 2714\u001b[0;31m                 \u001b[0mresults\u001b[0m \u001b[0;34m=\u001b[0m \u001b[0mself\u001b[0m\u001b[0;34m.\u001b[0m\u001b[0mgather\u001b[0m\u001b[0;34m(\u001b[0m\u001b[0mpacked\u001b[0m\u001b[0;34m,\u001b[0m \u001b[0masynchronous\u001b[0m\u001b[0;34m=\u001b[0m\u001b[0masynchronous\u001b[0m\u001b[0;34m,\u001b[0m \u001b[0mdirect\u001b[0m\u001b[0;34m=\u001b[0m\u001b[0mdirect\u001b[0m\u001b[0;34m)\u001b[0m\u001b[0;34m\u001b[0m\u001b[0;34m\u001b[0m\u001b[0m\n\u001b[0m\u001b[1;32m   2715\u001b[0m             \u001b[0;32mfinally\u001b[0m\u001b[0;34m:\u001b[0m\u001b[0;34m\u001b[0m\u001b[0;34m\u001b[0m\u001b[0m\n\u001b[1;32m   2716\u001b[0m                 \u001b[0;32mfor\u001b[0m \u001b[0mf\u001b[0m \u001b[0;32min\u001b[0m \u001b[0mfutures\u001b[0m\u001b[0;34m.\u001b[0m\u001b[0mvalues\u001b[0m\u001b[0;34m(\u001b[0m\u001b[0;34m)\u001b[0m\u001b[0;34m:\u001b[0m\u001b[0;34m\u001b[0m\u001b[0;34m\u001b[0m\u001b[0m\n",
      "\u001b[0;32m/hpc_utoz/vvib872/Software/envs/deconv/lib/python3.8/site-packages/distributed/client.py\u001b[0m in \u001b[0;36mgather\u001b[0;34m(self, futures, errors, direct, asynchronous)\u001b[0m\n\u001b[1;32m   1985\u001b[0m             \u001b[0;32melse\u001b[0m\u001b[0;34m:\u001b[0m\u001b[0;34m\u001b[0m\u001b[0;34m\u001b[0m\u001b[0m\n\u001b[1;32m   1986\u001b[0m                 \u001b[0mlocal_worker\u001b[0m \u001b[0;34m=\u001b[0m \u001b[0;32mNone\u001b[0m\u001b[0;34m\u001b[0m\u001b[0;34m\u001b[0m\u001b[0m\n\u001b[0;32m-> 1987\u001b[0;31m             return self.sync(\n\u001b[0m\u001b[1;32m   1988\u001b[0m                 \u001b[0mself\u001b[0m\u001b[0;34m.\u001b[0m\u001b[0m_gather\u001b[0m\u001b[0;34m,\u001b[0m\u001b[0;34m\u001b[0m\u001b[0;34m\u001b[0m\u001b[0m\n\u001b[1;32m   1989\u001b[0m                 \u001b[0mfutures\u001b[0m\u001b[0;34m,\u001b[0m\u001b[0;34m\u001b[0m\u001b[0;34m\u001b[0m\u001b[0m\n",
      "\u001b[0;32m/hpc_utoz/vvib872/Software/envs/deconv/lib/python3.8/site-packages/distributed/client.py\u001b[0m in \u001b[0;36msync\u001b[0;34m(self, func, asynchronous, callback_timeout, *args, **kwargs)\u001b[0m\n\u001b[1;32m    831\u001b[0m             \u001b[0;32mreturn\u001b[0m \u001b[0mfuture\u001b[0m\u001b[0;34m\u001b[0m\u001b[0;34m\u001b[0m\u001b[0m\n\u001b[1;32m    832\u001b[0m         \u001b[0;32melse\u001b[0m\u001b[0;34m:\u001b[0m\u001b[0;34m\u001b[0m\u001b[0;34m\u001b[0m\u001b[0m\n\u001b[0;32m--> 833\u001b[0;31m             return sync(\n\u001b[0m\u001b[1;32m    834\u001b[0m                 \u001b[0mself\u001b[0m\u001b[0;34m.\u001b[0m\u001b[0mloop\u001b[0m\u001b[0;34m,\u001b[0m \u001b[0mfunc\u001b[0m\u001b[0;34m,\u001b[0m \u001b[0;34m*\u001b[0m\u001b[0margs\u001b[0m\u001b[0;34m,\u001b[0m \u001b[0mcallback_timeout\u001b[0m\u001b[0;34m=\u001b[0m\u001b[0mcallback_timeout\u001b[0m\u001b[0;34m,\u001b[0m \u001b[0;34m**\u001b[0m\u001b[0mkwargs\u001b[0m\u001b[0;34m\u001b[0m\u001b[0;34m\u001b[0m\u001b[0m\n\u001b[1;32m    835\u001b[0m             )\n",
      "\u001b[0;32m/hpc_utoz/vvib872/Software/envs/deconv/lib/python3.8/site-packages/distributed/utils.py\u001b[0m in \u001b[0;36msync\u001b[0;34m(loop, func, callback_timeout, *args, **kwargs)\u001b[0m\n\u001b[1;32m    337\u001b[0m     \u001b[0;32mif\u001b[0m \u001b[0merror\u001b[0m\u001b[0;34m[\u001b[0m\u001b[0;36m0\u001b[0m\u001b[0;34m]\u001b[0m\u001b[0;34m:\u001b[0m\u001b[0;34m\u001b[0m\u001b[0;34m\u001b[0m\u001b[0m\n\u001b[1;32m    338\u001b[0m         \u001b[0mtyp\u001b[0m\u001b[0;34m,\u001b[0m \u001b[0mexc\u001b[0m\u001b[0;34m,\u001b[0m \u001b[0mtb\u001b[0m \u001b[0;34m=\u001b[0m \u001b[0merror\u001b[0m\u001b[0;34m[\u001b[0m\u001b[0;36m0\u001b[0m\u001b[0;34m]\u001b[0m\u001b[0;34m\u001b[0m\u001b[0;34m\u001b[0m\u001b[0m\n\u001b[0;32m--> 339\u001b[0;31m         \u001b[0;32mraise\u001b[0m \u001b[0mexc\u001b[0m\u001b[0;34m.\u001b[0m\u001b[0mwith_traceback\u001b[0m\u001b[0;34m(\u001b[0m\u001b[0mtb\u001b[0m\u001b[0;34m)\u001b[0m\u001b[0;34m\u001b[0m\u001b[0;34m\u001b[0m\u001b[0m\n\u001b[0m\u001b[1;32m    340\u001b[0m     \u001b[0;32melse\u001b[0m\u001b[0;34m:\u001b[0m\u001b[0;34m\u001b[0m\u001b[0;34m\u001b[0m\u001b[0m\n\u001b[1;32m    341\u001b[0m         \u001b[0;32mreturn\u001b[0m \u001b[0mresult\u001b[0m\u001b[0;34m[\u001b[0m\u001b[0;36m0\u001b[0m\u001b[0;34m]\u001b[0m\u001b[0;34m\u001b[0m\u001b[0;34m\u001b[0m\u001b[0m\n",
      "\u001b[0;32m/hpc_utoz/vvib872/Software/envs/deconv/lib/python3.8/site-packages/distributed/utils.py\u001b[0m in \u001b[0;36mf\u001b[0;34m()\u001b[0m\n\u001b[1;32m    321\u001b[0m             \u001b[0;32mif\u001b[0m \u001b[0mcallback_timeout\u001b[0m \u001b[0;32mis\u001b[0m \u001b[0;32mnot\u001b[0m \u001b[0;32mNone\u001b[0m\u001b[0;34m:\u001b[0m\u001b[0;34m\u001b[0m\u001b[0;34m\u001b[0m\u001b[0m\n\u001b[1;32m    322\u001b[0m                 \u001b[0mfuture\u001b[0m \u001b[0;34m=\u001b[0m \u001b[0masyncio\u001b[0m\u001b[0;34m.\u001b[0m\u001b[0mwait_for\u001b[0m\u001b[0;34m(\u001b[0m\u001b[0mfuture\u001b[0m\u001b[0;34m,\u001b[0m \u001b[0mcallback_timeout\u001b[0m\u001b[0;34m)\u001b[0m\u001b[0;34m\u001b[0m\u001b[0;34m\u001b[0m\u001b[0m\n\u001b[0;32m--> 323\u001b[0;31m             \u001b[0mresult\u001b[0m\u001b[0;34m[\u001b[0m\u001b[0;36m0\u001b[0m\u001b[0;34m]\u001b[0m \u001b[0;34m=\u001b[0m \u001b[0;32myield\u001b[0m \u001b[0mfuture\u001b[0m\u001b[0;34m\u001b[0m\u001b[0;34m\u001b[0m\u001b[0m\n\u001b[0m\u001b[1;32m    324\u001b[0m         \u001b[0;32mexcept\u001b[0m \u001b[0mException\u001b[0m \u001b[0;32mas\u001b[0m \u001b[0mexc\u001b[0m\u001b[0;34m:\u001b[0m\u001b[0;34m\u001b[0m\u001b[0;34m\u001b[0m\u001b[0m\n\u001b[1;32m    325\u001b[0m             \u001b[0merror\u001b[0m\u001b[0;34m[\u001b[0m\u001b[0;36m0\u001b[0m\u001b[0;34m]\u001b[0m \u001b[0;34m=\u001b[0m \u001b[0msys\u001b[0m\u001b[0;34m.\u001b[0m\u001b[0mexc_info\u001b[0m\u001b[0;34m(\u001b[0m\u001b[0;34m)\u001b[0m\u001b[0;34m\u001b[0m\u001b[0;34m\u001b[0m\u001b[0m\n",
      "\u001b[0;32m/hpc_utoz/vvib872/Software/envs/deconv/lib/python3.8/site-packages/tornado/gen.py\u001b[0m in \u001b[0;36mrun\u001b[0;34m(self)\u001b[0m\n\u001b[1;32m    733\u001b[0m \u001b[0;34m\u001b[0m\u001b[0m\n\u001b[1;32m    734\u001b[0m                     \u001b[0;32mtry\u001b[0m\u001b[0;34m:\u001b[0m\u001b[0;34m\u001b[0m\u001b[0;34m\u001b[0m\u001b[0m\n\u001b[0;32m--> 735\u001b[0;31m                         \u001b[0mvalue\u001b[0m \u001b[0;34m=\u001b[0m \u001b[0mfuture\u001b[0m\u001b[0;34m.\u001b[0m\u001b[0mresult\u001b[0m\u001b[0;34m(\u001b[0m\u001b[0;34m)\u001b[0m\u001b[0;34m\u001b[0m\u001b[0;34m\u001b[0m\u001b[0m\n\u001b[0m\u001b[1;32m    736\u001b[0m                     \u001b[0;32mexcept\u001b[0m \u001b[0mException\u001b[0m\u001b[0;34m:\u001b[0m\u001b[0;34m\u001b[0m\u001b[0;34m\u001b[0m\u001b[0m\n\u001b[1;32m    737\u001b[0m                         \u001b[0mexc_info\u001b[0m \u001b[0;34m=\u001b[0m \u001b[0msys\u001b[0m\u001b[0;34m.\u001b[0m\u001b[0mexc_info\u001b[0m\u001b[0;34m(\u001b[0m\u001b[0;34m)\u001b[0m\u001b[0;34m\u001b[0m\u001b[0;34m\u001b[0m\u001b[0m\n",
      "\u001b[0;32m/hpc_utoz/vvib872/Software/envs/deconv/lib/python3.8/site-packages/distributed/client.py\u001b[0m in \u001b[0;36m_gather\u001b[0;34m(self, futures, errors, direct, local_worker)\u001b[0m\n\u001b[1;32m   1850\u001b[0m                             \u001b[0mexc\u001b[0m \u001b[0;34m=\u001b[0m \u001b[0mCancelledError\u001b[0m\u001b[0;34m(\u001b[0m\u001b[0mkey\u001b[0m\u001b[0;34m)\u001b[0m\u001b[0;34m\u001b[0m\u001b[0;34m\u001b[0m\u001b[0m\n\u001b[1;32m   1851\u001b[0m                         \u001b[0;32melse\u001b[0m\u001b[0;34m:\u001b[0m\u001b[0;34m\u001b[0m\u001b[0;34m\u001b[0m\u001b[0m\n\u001b[0;32m-> 1852\u001b[0;31m                             \u001b[0;32mraise\u001b[0m \u001b[0mexception\u001b[0m\u001b[0;34m.\u001b[0m\u001b[0mwith_traceback\u001b[0m\u001b[0;34m(\u001b[0m\u001b[0mtraceback\u001b[0m\u001b[0;34m)\u001b[0m\u001b[0;34m\u001b[0m\u001b[0;34m\u001b[0m\u001b[0m\n\u001b[0m\u001b[1;32m   1853\u001b[0m                         \u001b[0;32mraise\u001b[0m \u001b[0mexc\u001b[0m\u001b[0;34m\u001b[0m\u001b[0;34m\u001b[0m\u001b[0m\n\u001b[1;32m   1854\u001b[0m                     \u001b[0;32mif\u001b[0m \u001b[0merrors\u001b[0m \u001b[0;34m==\u001b[0m \u001b[0;34m\"skip\"\u001b[0m\u001b[0;34m:\u001b[0m\u001b[0;34m\u001b[0m\u001b[0;34m\u001b[0m\u001b[0m\n",
      "\u001b[0;32m/hpc_utoz/vvib872/Software/envs/deconv/lib/python3.8/site-packages/dask/array/core.py\u001b[0m in \u001b[0;36mstore_chunk\u001b[0;34m()\u001b[0m\n\u001b[1;32m   3709\u001b[0m \u001b[0;34m\u001b[0m\u001b[0m\n\u001b[1;32m   3710\u001b[0m \u001b[0;32mdef\u001b[0m \u001b[0mstore_chunk\u001b[0m\u001b[0;34m(\u001b[0m\u001b[0mx\u001b[0m\u001b[0;34m,\u001b[0m \u001b[0mout\u001b[0m\u001b[0;34m,\u001b[0m \u001b[0mindex\u001b[0m\u001b[0;34m,\u001b[0m \u001b[0mlock\u001b[0m\u001b[0;34m,\u001b[0m \u001b[0mreturn_stored\u001b[0m\u001b[0;34m)\u001b[0m\u001b[0;34m:\u001b[0m\u001b[0;34m\u001b[0m\u001b[0;34m\u001b[0m\u001b[0m\n\u001b[0;32m-> 3711\u001b[0;31m     \u001b[0;32mreturn\u001b[0m \u001b[0mload_store_chunk\u001b[0m\u001b[0;34m(\u001b[0m\u001b[0mx\u001b[0m\u001b[0;34m,\u001b[0m \u001b[0mout\u001b[0m\u001b[0;34m,\u001b[0m \u001b[0mindex\u001b[0m\u001b[0;34m,\u001b[0m \u001b[0mlock\u001b[0m\u001b[0;34m,\u001b[0m \u001b[0mreturn_stored\u001b[0m\u001b[0;34m,\u001b[0m \u001b[0;32mFalse\u001b[0m\u001b[0;34m)\u001b[0m\u001b[0;34m\u001b[0m\u001b[0;34m\u001b[0m\u001b[0m\n\u001b[0m\u001b[1;32m   3712\u001b[0m \u001b[0;34m\u001b[0m\u001b[0m\n\u001b[1;32m   3713\u001b[0m \u001b[0;34m\u001b[0m\u001b[0m\n",
      "\u001b[0;32m/hpc_utoz/vvib872/Software/envs/deconv/lib/python3.8/site-packages/dask/array/core.py\u001b[0m in \u001b[0;36mload_store_chunk\u001b[0;34m()\u001b[0m\n\u001b[1;32m   3698\u001b[0m     \u001b[0;32mtry\u001b[0m\u001b[0;34m:\u001b[0m\u001b[0;34m\u001b[0m\u001b[0;34m\u001b[0m\u001b[0m\n\u001b[1;32m   3699\u001b[0m         \u001b[0;32mif\u001b[0m \u001b[0mx\u001b[0m \u001b[0;32mis\u001b[0m \u001b[0;32mnot\u001b[0m \u001b[0;32mNone\u001b[0m\u001b[0;34m:\u001b[0m\u001b[0;34m\u001b[0m\u001b[0;34m\u001b[0m\u001b[0m\n\u001b[0;32m-> 3700\u001b[0;31m             \u001b[0mout\u001b[0m\u001b[0;34m[\u001b[0m\u001b[0mindex\u001b[0m\u001b[0;34m]\u001b[0m \u001b[0;34m=\u001b[0m \u001b[0mnp\u001b[0m\u001b[0;34m.\u001b[0m\u001b[0masanyarray\u001b[0m\u001b[0;34m(\u001b[0m\u001b[0mx\u001b[0m\u001b[0;34m)\u001b[0m\u001b[0;34m\u001b[0m\u001b[0;34m\u001b[0m\u001b[0m\n\u001b[0m\u001b[1;32m   3701\u001b[0m         \u001b[0;32mif\u001b[0m \u001b[0mreturn_stored\u001b[0m \u001b[0;32mand\u001b[0m \u001b[0mload_stored\u001b[0m\u001b[0;34m:\u001b[0m\u001b[0;34m\u001b[0m\u001b[0;34m\u001b[0m\u001b[0m\n\u001b[1;32m   3702\u001b[0m             \u001b[0mresult\u001b[0m \u001b[0;34m=\u001b[0m \u001b[0mout\u001b[0m\u001b[0;34m[\u001b[0m\u001b[0mindex\u001b[0m\u001b[0;34m]\u001b[0m\u001b[0;34m\u001b[0m\u001b[0;34m\u001b[0m\u001b[0m\n",
      "\u001b[0;32m/hpc_utoz/vvib872/Software/envs/deconv/lib/python3.8/site-packages/zarr/core.py\u001b[0m in \u001b[0;36m__setitem__\u001b[0;34m()\u001b[0m\n\u001b[1;32m   1113\u001b[0m \u001b[0;34m\u001b[0m\u001b[0m\n\u001b[1;32m   1114\u001b[0m         \u001b[0mfields\u001b[0m\u001b[0;34m,\u001b[0m \u001b[0mselection\u001b[0m \u001b[0;34m=\u001b[0m \u001b[0mpop_fields\u001b[0m\u001b[0;34m(\u001b[0m\u001b[0mselection\u001b[0m\u001b[0;34m)\u001b[0m\u001b[0;34m\u001b[0m\u001b[0;34m\u001b[0m\u001b[0m\n\u001b[0;32m-> 1115\u001b[0;31m         \u001b[0mself\u001b[0m\u001b[0;34m.\u001b[0m\u001b[0mset_basic_selection\u001b[0m\u001b[0;34m(\u001b[0m\u001b[0mselection\u001b[0m\u001b[0;34m,\u001b[0m \u001b[0mvalue\u001b[0m\u001b[0;34m,\u001b[0m \u001b[0mfields\u001b[0m\u001b[0;34m=\u001b[0m\u001b[0mfields\u001b[0m\u001b[0;34m)\u001b[0m\u001b[0;34m\u001b[0m\u001b[0;34m\u001b[0m\u001b[0m\n\u001b[0m\u001b[1;32m   1116\u001b[0m \u001b[0;34m\u001b[0m\u001b[0m\n\u001b[1;32m   1117\u001b[0m     \u001b[0;32mdef\u001b[0m \u001b[0mset_basic_selection\u001b[0m\u001b[0;34m(\u001b[0m\u001b[0mself\u001b[0m\u001b[0;34m,\u001b[0m \u001b[0mselection\u001b[0m\u001b[0;34m,\u001b[0m \u001b[0mvalue\u001b[0m\u001b[0;34m,\u001b[0m \u001b[0mfields\u001b[0m\u001b[0;34m=\u001b[0m\u001b[0;32mNone\u001b[0m\u001b[0;34m)\u001b[0m\u001b[0;34m:\u001b[0m\u001b[0;34m\u001b[0m\u001b[0;34m\u001b[0m\u001b[0m\n",
      "\u001b[0;32m/hpc_utoz/vvib872/Software/envs/deconv/lib/python3.8/site-packages/zarr/core.py\u001b[0m in \u001b[0;36mset_basic_selection\u001b[0;34m()\u001b[0m\n\u001b[1;32m   1208\u001b[0m             \u001b[0;32mreturn\u001b[0m \u001b[0mself\u001b[0m\u001b[0;34m.\u001b[0m\u001b[0m_set_basic_selection_zd\u001b[0m\u001b[0;34m(\u001b[0m\u001b[0mselection\u001b[0m\u001b[0;34m,\u001b[0m \u001b[0mvalue\u001b[0m\u001b[0;34m,\u001b[0m \u001b[0mfields\u001b[0m\u001b[0;34m=\u001b[0m\u001b[0mfields\u001b[0m\u001b[0;34m)\u001b[0m\u001b[0;34m\u001b[0m\u001b[0;34m\u001b[0m\u001b[0m\n\u001b[1;32m   1209\u001b[0m         \u001b[0;32melse\u001b[0m\u001b[0;34m:\u001b[0m\u001b[0;34m\u001b[0m\u001b[0;34m\u001b[0m\u001b[0m\n\u001b[0;32m-> 1210\u001b[0;31m             \u001b[0;32mreturn\u001b[0m \u001b[0mself\u001b[0m\u001b[0;34m.\u001b[0m\u001b[0m_set_basic_selection_nd\u001b[0m\u001b[0;34m(\u001b[0m\u001b[0mselection\u001b[0m\u001b[0;34m,\u001b[0m \u001b[0mvalue\u001b[0m\u001b[0;34m,\u001b[0m \u001b[0mfields\u001b[0m\u001b[0;34m=\u001b[0m\u001b[0mfields\u001b[0m\u001b[0;34m)\u001b[0m\u001b[0;34m\u001b[0m\u001b[0;34m\u001b[0m\u001b[0m\n\u001b[0m\u001b[1;32m   1211\u001b[0m \u001b[0;34m\u001b[0m\u001b[0m\n\u001b[1;32m   1212\u001b[0m     \u001b[0;32mdef\u001b[0m \u001b[0mset_orthogonal_selection\u001b[0m\u001b[0;34m(\u001b[0m\u001b[0mself\u001b[0m\u001b[0;34m,\u001b[0m \u001b[0mselection\u001b[0m\u001b[0;34m,\u001b[0m \u001b[0mvalue\u001b[0m\u001b[0;34m,\u001b[0m \u001b[0mfields\u001b[0m\u001b[0;34m=\u001b[0m\u001b[0;32mNone\u001b[0m\u001b[0;34m)\u001b[0m\u001b[0;34m:\u001b[0m\u001b[0;34m\u001b[0m\u001b[0;34m\u001b[0m\u001b[0m\n",
      "\u001b[0;32m/hpc_utoz/vvib872/Software/envs/deconv/lib/python3.8/site-packages/zarr/core.py\u001b[0m in \u001b[0;36m_set_basic_selection_nd\u001b[0;34m()\u001b[0m\n\u001b[1;32m   1499\u001b[0m         \u001b[0mindexer\u001b[0m \u001b[0;34m=\u001b[0m \u001b[0mBasicIndexer\u001b[0m\u001b[0;34m(\u001b[0m\u001b[0mselection\u001b[0m\u001b[0;34m,\u001b[0m \u001b[0mself\u001b[0m\u001b[0;34m)\u001b[0m\u001b[0;34m\u001b[0m\u001b[0;34m\u001b[0m\u001b[0m\n\u001b[1;32m   1500\u001b[0m \u001b[0;34m\u001b[0m\u001b[0m\n\u001b[0;32m-> 1501\u001b[0;31m         \u001b[0mself\u001b[0m\u001b[0;34m.\u001b[0m\u001b[0m_set_selection\u001b[0m\u001b[0;34m(\u001b[0m\u001b[0mindexer\u001b[0m\u001b[0;34m,\u001b[0m \u001b[0mvalue\u001b[0m\u001b[0;34m,\u001b[0m \u001b[0mfields\u001b[0m\u001b[0;34m=\u001b[0m\u001b[0mfields\u001b[0m\u001b[0;34m)\u001b[0m\u001b[0;34m\u001b[0m\u001b[0;34m\u001b[0m\u001b[0m\n\u001b[0m\u001b[1;32m   1502\u001b[0m \u001b[0;34m\u001b[0m\u001b[0m\n\u001b[1;32m   1503\u001b[0m     \u001b[0;32mdef\u001b[0m \u001b[0m_set_selection\u001b[0m\u001b[0;34m(\u001b[0m\u001b[0mself\u001b[0m\u001b[0;34m,\u001b[0m \u001b[0mindexer\u001b[0m\u001b[0;34m,\u001b[0m \u001b[0mvalue\u001b[0m\u001b[0;34m,\u001b[0m \u001b[0mfields\u001b[0m\u001b[0;34m=\u001b[0m\u001b[0;32mNone\u001b[0m\u001b[0;34m)\u001b[0m\u001b[0;34m:\u001b[0m\u001b[0;34m\u001b[0m\u001b[0;34m\u001b[0m\u001b[0m\n",
      "\u001b[0;32m/hpc_utoz/vvib872/Software/envs/deconv/lib/python3.8/site-packages/zarr/core.py\u001b[0m in \u001b[0;36m_set_selection\u001b[0;34m()\u001b[0m\n\u001b[1;32m   1527\u001b[0m             \u001b[0;32mif\u001b[0m \u001b[0;32mnot\u001b[0m \u001b[0mhasattr\u001b[0m\u001b[0;34m(\u001b[0m\u001b[0mvalue\u001b[0m\u001b[0;34m,\u001b[0m \u001b[0;34m'shape'\u001b[0m\u001b[0;34m)\u001b[0m\u001b[0;34m:\u001b[0m\u001b[0;34m\u001b[0m\u001b[0;34m\u001b[0m\u001b[0m\n\u001b[1;32m   1528\u001b[0m                 \u001b[0mvalue\u001b[0m \u001b[0;34m=\u001b[0m \u001b[0mnp\u001b[0m\u001b[0;34m.\u001b[0m\u001b[0masanyarray\u001b[0m\u001b[0;34m(\u001b[0m\u001b[0mvalue\u001b[0m\u001b[0;34m)\u001b[0m\u001b[0;34m\u001b[0m\u001b[0;34m\u001b[0m\u001b[0m\n\u001b[0;32m-> 1529\u001b[0;31m             \u001b[0mcheck_array_shape\u001b[0m\u001b[0;34m(\u001b[0m\u001b[0;34m'value'\u001b[0m\u001b[0;34m,\u001b[0m \u001b[0mvalue\u001b[0m\u001b[0;34m,\u001b[0m \u001b[0msel_shape\u001b[0m\u001b[0;34m)\u001b[0m\u001b[0;34m\u001b[0m\u001b[0;34m\u001b[0m\u001b[0m\n\u001b[0m\u001b[1;32m   1530\u001b[0m \u001b[0;34m\u001b[0m\u001b[0m\n\u001b[1;32m   1531\u001b[0m         \u001b[0;31m# iterate over chunks in range\u001b[0m\u001b[0;34m\u001b[0m\u001b[0;34m\u001b[0m\u001b[0;34m\u001b[0m\u001b[0m\n",
      "\u001b[0;32m/hpc_utoz/vvib872/Software/envs/deconv/lib/python3.8/site-packages/zarr/util.py\u001b[0m in \u001b[0;36mcheck_array_shape\u001b[0;34m()\u001b[0m\n\u001b[1;32m    502\u001b[0m                         .format(param, type(array)))\n\u001b[1;32m    503\u001b[0m     \u001b[0;32mif\u001b[0m \u001b[0marray\u001b[0m\u001b[0;34m.\u001b[0m\u001b[0mshape\u001b[0m \u001b[0;34m!=\u001b[0m \u001b[0mshape\u001b[0m\u001b[0;34m:\u001b[0m\u001b[0;34m\u001b[0m\u001b[0;34m\u001b[0m\u001b[0m\n\u001b[0;32m--> 504\u001b[0;31m         raise ValueError('parameter {!r}: expected array with shape {!r}, got {!r}'\n\u001b[0m\u001b[1;32m    505\u001b[0m                          .format(param, shape, array.shape))\n\u001b[1;32m    506\u001b[0m \u001b[0;34m\u001b[0m\u001b[0m\n",
      "\u001b[0;31mValueError\u001b[0m: parameter 'value': expected array with shape (128, 128, 128), got (128, 128, 64)"
     ]
    }
   ],
   "source": [
    "sample_range = ((600,856),(0,None),(0,None))\n",
    "\n",
    "sample_img = img.sample(sample_range,prefix='roi')\n",
    "sample_img.to_float()\n",
    "sample_img.visualize(plane ='XY', slice_no=150, img_start=(0,0),img_end=(None,None))\n",
    "\n",
    "sample_img.overlap(overlap)\n",
    "sample_img.gaussian(sigma=0.7)\n",
    "sample_img.resize(scale)\n",
    "ds_img_resolution = tuple(map(lambda i, s: i / s, img_resolution, scale))\n",
    "ds_overlap = tuple(map(lambda s, c: int(round(s * c)), overlap, scale))\n",
    "sample_img.trim_overlap(ds_overlap)\n",
    "\n",
    "dsample_img = Image.from_zarr(sample_img.to_zarr(prefix=prefix))"
   ]
  },
  {
   "cell_type": "code",
   "execution_count": null,
   "metadata": {
    "scrolled": true
   },
   "outputs": [],
   "source": [
    "dsample_img.visualize(plane ='XY', slice_no=50, img_start=(0,0),img_end=(None,None))\n",
    "dsample_img.info()"
   ]
  },
  {
   "cell_type": "markdown",
   "metadata": {},
   "source": [
    "### Filter"
   ]
  },
  {
   "cell_type": "code",
   "execution_count": 22,
   "metadata": {},
   "outputs": [
    {
     "name": "stdout",
     "output_type": "stream",
     "text": [
      "Elaspsed time: 99.78493928909302\n"
     ]
    },
    {
     "name": "stderr",
     "output_type": "stream",
     "text": [
      "distributed.comm.tcp - WARNING - Closing dangling stream in <TCP  local=tcp://127.0.0.1:54790 remote=tcp://127.0.0.1:44988>\n",
      "distributed.comm.tcp - WARNING - Closing dangling stream in <TCP  local=tcp://127.0.0.1:54808 remote=tcp://127.0.0.1:44988>\n",
      "distributed.comm.tcp - WARNING - Closing dangling stream in <TCP  local=tcp://127.0.0.1:54832 remote=tcp://127.0.0.1:44988>\n",
      "distributed.comm.tcp - WARNING - Closing dangling stream in <TCP  local=tcp://127.0.0.1:54836 remote=tcp://127.0.0.1:44988>\n"
     ]
    }
   ],
   "source": [
    "start_time = time.time()\n",
    "\n",
    "# img.to_float()\n",
    "\n",
    "img.overlap(overlap)\n",
    "img.gaussian(sigma=0.7)\n",
    "img.resize(scale)\n",
    "ds_img_resolution = tuple(map(lambda i, s: i / s, img_resolution, scale))\n",
    "ds_overlap = tuple(map(lambda s, c: int(round(s * c)), overlap, scale))\n",
    "img.trim_overlap(ds_overlap)\n",
    "\n",
    "img.overlap(overlap)\n",
    "img.gaussian(sigma=0.7)\n",
    "img.resize(scale)\n",
    "ds_img_resolution = tuple(map(lambda i, s: i / s, img_resolution, scale))\n",
    "ds_overlap = tuple(map(lambda s, c: int(round(s * c)), overlap, scale))\n",
    "img.trim_overlap(ds_overlap)\n",
    "\n",
    "# # chunk_s = (192,128,128)\n",
    "# # sample_img.rechunk(chunk_s)\n",
    "# img.frangi(sigma_range=range(2, 6), alpha=0.1, beta=0.7, c=0.1, gamma=1)\n",
    "# img.anisotropic_diffusion(niter=15, kappa=20, gamma=0.1)\n",
    "# img.trim_overlap(ds_overlap)\n",
    "\n",
    "# img.dask_img = 255 * img.dask_img\n",
    "\n",
    "filt_img_path = img.to_zarr(prefix=prefix, chunk_size=save_chunk_size, dtype='f4')\n",
    "elapsed_time = time.time() - start_time\n",
    "print(\"Elaspsed time:\",elapsed_time)\n",
    "\n",
    "parent_dir,name = os.path.split(img.file_path)\n",
    "hostname = !hostname\n",
    "filename,ext = os.path.splitext(filt_img_path)\n",
    "\n",
    "metadata = {\n",
    "    'uid': '54J',\n",
    "    'img_in': {\n",
    "        'name': name,\n",
    "        'res': img_resolution,\n",
    "    },\n",
    "\n",
    "    'process' : {\n",
    "         'name': prefix,\n",
    "         'chunk_size': save_chunk_size,\n",
    "         'overlap': overlap,\n",
    "         'scale': scale,\n",
    "     },\n",
    "\n",
    "    'img_out' : {\n",
    "        'name': os.path.basename(filt_img_path),\n",
    "        'res': img_resolution,\n",
    "        'elapsed_time':round(elapsed_time), \n",
    "        'hostname':hostname[0], \n",
    "        'workers': len(client.ncores()),\n",
    "        'threads':next(iter(client.nthreads().values()))\n",
    "    }\n",
    "}\n",
    "\n",
    "metadata_file = filename + '.json'\n",
    "with open(metadata_file, 'w') as outfile:\n",
    "            json.dump(metadata, outfile)"
   ]
  },
  {
   "cell_type": "markdown",
   "metadata": {},
   "source": [
    "### Results"
   ]
  },
  {
   "cell_type": "code",
   "execution_count": 56,
   "metadata": {},
   "outputs": [],
   "source": [
    "client.close() #also don't forget to shutdown the cluster"
   ]
  }
 ],
 "metadata": {
  "kernelspec": {
   "display_name": "Python 3",
   "language": "python",
   "name": "python3"
  },
  "language_info": {
   "codemirror_mode": {
    "name": "ipython",
    "version": 3
   },
   "file_extension": ".py",
   "mimetype": "text/x-python",
   "name": "python",
   "nbconvert_exporter": "python",
   "pygments_lexer": "ipython3",
   "version": "3.8.5"
  }
 },
 "nbformat": 4,
 "nbformat_minor": 4
}
